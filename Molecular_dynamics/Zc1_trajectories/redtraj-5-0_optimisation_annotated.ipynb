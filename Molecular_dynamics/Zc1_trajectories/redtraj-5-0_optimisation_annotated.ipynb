{
 "cells": [
  {
   "cell_type": "markdown",
   "metadata": {},
   "source": [
    "Importing tensorflow and other modules"
   ]
  },
  {
   "cell_type": "code",
   "execution_count": 7,
   "metadata": {},
   "outputs": [],
   "source": [
    "import tensorflow as tf\n",
    "import npnelib as ne\n",
    "import numpy as np\n",
    "import scipy"
   ]
  },
  {
   "cell_type": "markdown",
   "metadata": {},
   "source": [
    "Defining dcd coordinate reading function, tf (for finding the time series between two atoms) and find maximum Zc,1 derivation function."
   ]
  },
  {
   "cell_type": "code",
   "execution_count": 8,
   "metadata": {},
   "outputs": [],
   "source": [
    "def read_dcd(name,verb=False,natom=0,nsets=0):\n",
    "    import numpy as np\n",
    "    from scipy.io import FortranFile\n",
    "    f=FortranFile(name,'r')\n",
    "    hdr=f.read_record(np.dtype('i4'))\n",
    "    if verb:print (hdr)\n",
    "    nsetsdcd=hdr[1]\n",
    "    if nsets==0:nsets=nsetsdcd\n",
    "    extrablock=hdr[11]>0\n",
    "    if verb:print (nsets,extrablock)\n",
    "    ntitle=f.read_record(np.dtype('i4'))\n",
    "    if verb:print (ntitle)\n",
    "    natomdcd=f.read_record(np.dtype('i4'))[0]\n",
    "    if natom==0:natom=natomdcd\n",
    "    mask=np.full(natomdcd,True)\n",
    "    if natomdcd!=natom: # reading a (random) subset of atoms\n",
    "        mask=np.full(natomdcd,False)\n",
    "        mask[:natom]=True\n",
    "        np.random.shuffle(mask)\n",
    "    if verb:print (natom)\n",
    "    xyz=np.zeros((natom,3,nsets),dtype=np.float16)\n",
    "    for iset in range(nsets):\n",
    "        if iset % max(1,int(nsets/10))==0:print (iset)\n",
    "        if extrablock: cell=f.read_record(np.dtype('f4'))\n",
    "        xyz[:,0,iset]=f.read_record(np.dtype('f4'))[mask]\n",
    "        xyz[:,1,iset]=f.read_record(np.dtype('f4'))[mask]\n",
    "        xyz[:,2,iset]=f.read_record(np.dtype('f4'))[mask]\n",
    "    f.close()\n",
    "    return natom,nsets,xyz\n",
    "\n",
    "@tf.function\n",
    "def rij(r1,r2):\n",
    "    dr=r1-r2\n",
    "    dr2=tf.math.reduce_sum(dr*dr,axis=0)\n",
    "    dr=tf.math.sqrt(dr2)\n",
    "    return dr/tf.math.reduce_max(dr)\n",
    "\n",
    "def find_maxzc1(r):\n",
    "    lx,lzc1=ne.comp_Zca(r,1,dx=0.0001,dt=1)\n",
    "    mzc1=sum(lzc1)/len(lzc1)\n",
    "    return max([((zc1/mzc1-1),x) for x,zc1 in zip(lx,lzc1)])"
   ]
  },
  {
   "cell_type": "markdown",
   "metadata": {},
   "source": [
    "Opening the rmsd file to define boundry states and opening dcd to give coordinates. "
   ]
  },
  {
   "cell_type": "code",
   "execution_count": 9,
   "metadata": {},
   "outputs": [
    {
     "name": "stdout",
     "output_type": "stream",
     "text": [
      "0\n",
      "125917\n",
      "251834\n",
      "377751\n",
      "503668\n",
      "629585\n",
      "755502\n",
      "881419\n",
      "1007336\n",
      "1133253\n",
      "1259170\n",
      "(627, 3, 1259172)\n"
     ]
    }
   ],
   "source": [
    "f=open('redtraj-5-0.rmsd')\n",
    "lrmsd=[]\n",
    "for l in f:\n",
    "    l=l.split()\n",
    "    lrmsd.append(float(l[1]))\n",
    "f.close()\n",
    "rmsd=np.asarray(lrmsd)\n",
    "\n",
    "natom,nsets,xyz=read_dcd('redcomb.dcd')\n",
    "xyz = tf.convert_to_tensor(xyz, np.float16)\n",
    "\n",
    "print (xyz.shape)"
   ]
  },
  {
   "cell_type": "markdown",
   "metadata": {},
   "source": [
    "xyz reads the 3D coordinates and defines the order perameters."
   ]
  },
  {
   "cell_type": "markdown",
   "metadata": {},
   "source": [
    "We define the boundry states of the RC where r(A)=0 and r(B)=1. It(t) is the indicator function: it equals 1 when \n",
    "itraj(t)=itraj(t+dt). Ib is the boundry indicator function, it is 1 when X(t) is on a boundry and 0 not on a boundry. \n",
    "It is fixed during optimisation, and is zero otherwise. \n",
    "We Define 4 and 11 to be the boundry states as determined from the FEP as a function of rmsd plot of redtraj-5-0. "
   ]
  },
  {
   "cell_type": "code",
   "execution_count": 10,
   "metadata": {},
   "outputs": [],
   "source": [
    "r=np.ones_like(rmsd,np.float64)/2\n",
    "r[rmsd<4.0]=1\n",
    "r[rmsd>11.0]=0\n",
    "\n",
    "Ib=np.zeros_like(rmsd,np.float64)\n",
    "Ib[rmsd<4.0]=1 \n",
    "Ib[rmsd>11.0]=1 \n",
    "\n",
    "It=np.ones_like(rmsd,np.float64)"
   ]
  },
  {
   "cell_type": "markdown",
   "metadata": {},
   "source": [
    "every 1000 iterations, print:\n",
    "iteration number, ||r-r_{-1000}||, dr**2/2, max dZ{C,1}, r0 \n",
    "\n",
    "40000 iterations will be produced. "
   ]
  },
  {
   "cell_type": "code",
   "execution_count": 11,
   "metadata": {},
   "outputs": [
    {
     "name": "stdout",
     "output_type": "stream",
     "text": [
      "0 433.91705891476516 272.0855579181174 0 0\n",
      "1000 50.04782445070781 15.034966264550393 0.2895637697221145 0.6983\n",
      "2000 17.63514045234257 14.055304258586618 0.2763093187225556 0.0002\n",
      "3000 17.791245331693023 15.250192030214322 0.23256944240031197 0.8182\n",
      "4000 13.786049289876411 14.85844768519395 0.6245049451084499 0.00030000000000000003\n",
      "5000 12.878190231998577 13.715011594192317 0.13894162632756468 0.8897\n",
      "6000 14.994674908926005 11.903905704455672 0.35491442299381215 0.0001\n",
      "7000 13.8642586079834 11.997748848667829 0.027770390356773644 0.1502\n",
      "8000 12.783650948057979 10.999313055351646 0.3424036684145988 0.0001\n",
      "9000 10.97698325492629 10.99999999999988 4.999795462912182e-05 0.0001\n",
      "10000 3.893077506604576e-12 10.999999999999995 0.0 1.0\n",
      "11000 7.443887249901418e-13 11.0 0.0 1.0\n",
      "12000 3.002552509109824e-13 11.0 0.0 1.0\n",
      "13000 1.637368913979438e-13 11.0 0.0 1.0\n",
      "14000 9.17614635339297e-14 11.0 0.0 1.0\n",
      "15000 3.7945978384605635e-14 11.0 0.0 1.0\n",
      "16000 1.7886640164783364e-14 11.0 0.0 1.0\n",
      "17000 1.3682969232969587e-14 11.0 0.0 1.0\n",
      "18000 8.153717307249094e-15 11.0 0.0 1.0\n",
      "19000 9.764352646133811e-15 11.0 0.0 1.0\n",
      "20000 7.337321326050613e-15 11.0 0.0 1.0\n",
      "21000 5.2371721323224076e-15 11.0 0.0 1.0\n",
      "22000 5.1210435991989065e-15 11.0 0.0 1.0\n",
      "23000 5.456702244120588e-15 11.0 0.0 1.0\n",
      "24000 3.8919067639587765e-15 11.0 0.0 1.0\n",
      "25000 2.878511018968093e-15 11.0 0.0 1.0\n",
      "26000 3.0737382457647885e-15 11.0 0.0 1.0\n",
      "27000 2.373193256965956e-15 11.0 0.0 1.0\n",
      "28000 2.0275711474970565e-15 11.0 0.0 1.0\n",
      "29000 1.9364386608505327e-15 11.0 0.0 1.0\n",
      "30000 1.4718379610150499e-15 11.0 0.0 1.0\n",
      "31000 1.3504226592206256e-15 11.0 0.0 1.0\n",
      "32000 1.1802028307183632e-15 11.0 0.0 1.0\n",
      "33000 9.48656676409239e-16 11.0 0.0 1.0\n",
      "34000 1.0248388398499814e-15 11.0 0.0 1.0\n",
      "35000 6.962100779410527e-16 11.0 0.0 1.0\n",
      "36000 8.215285658568516e-16 11.0 0.0 1.0\n",
      "37000 7.726481410231777e-16 11.0 0.0 1.0\n",
      "38000 6.936233480071294e-16 11.0 0.0 1.0\n",
      "39000 4.835684547423976e-16 11.0 0.0 1.0\n",
      "40000 4.275039207102391e-16 11.0 0.0 1.0\n"
     ]
    }
   ],
   "source": [
    "ro=r\n",
    "df=0\n",
    "r0=0\n",
    "lr1=[]\n",
    "lr2=[]\n",
    "k=0\n",
    "np.random.seed(100)\n",
    "while k<1000000:\n",
    "    i,j=np.random.choice(range(natom),2,replace=False)\n",
    "    y=rij(xyz[i,:,:],xyz[j,:,:])\n",
    "    y=tf.cast(y,tf.float64)\n",
    "    \n",
    "    r=ne.NPNEq(r,ne.basis_poly_ry(r,y,4),Ib,It)\n",
    "    \n",
    "    if k%40==0 and k>=400:\n",
    "        if k%400==0:df,r0=find_maxzc1(r.numpy())\n",
    "        if df>0.03:\n",
    "            d=0.1**(1+3*np.random.random())\n",
    "            fenv=tf.math.exp(-tf.math.abs(r0-r)/d)\n",
    "            r=ne.NPNEq(r,ne.basis_poly_r(r,16,fenv=fenv),Ib,It)\n",
    "    \n",
    "    r=ne.NPNEq(r,ne.basis_poly_r(r,16),Ib,It)\n",
    "    \n",
    "    if k%1000==0:\n",
    "        dr=r-ro\n",
    "        dr2=tf.tensordot(dr,dr,1).numpy()\n",
    "        dr2=dr2**0.5\n",
    "        lr1.append((k,dr2))\n",
    "        dr=r-tf.roll(r,-1,0)\n",
    "        dr2=tf.tensordot(dr*It,dr,1).numpy()/2\n",
    "        lr2.append((k,dr2))\n",
    "        print (k,lr1[-1][1],lr2[-1][1],df,r0)\n",
    "        if k>=40000:break\n",
    "        ro=r\n",
    "    k+=1"
   ]
  },
  {
   "cell_type": "markdown",
   "metadata": {},
   "source": [
    "Shift in ||r-r-n|| is tiny at 10000 iterations. r0 ramians constant at 1, dr**2/2 is constant at 11, max dZ{C,1} stays at 0 meaning it remains constant past 10000 iterations as well. "
   ]
  },
  {
   "cell_type": "code",
   "execution_count": 15,
   "metadata": {},
   "outputs": [
    {
     "ename": "AttributeError",
     "evalue": "'numpy.ndarray' object has no attribute 'numpy'",
     "output_type": "error",
     "traceback": [
      "\u001b[1;31m---------------------------------------------------------------------------\u001b[0m",
      "\u001b[1;31mAttributeError\u001b[0m                            Traceback (most recent call last)",
      "\u001b[1;32m<ipython-input-15-b018c840cf95>\u001b[0m in \u001b[0;36m<module>\u001b[1;34m\u001b[0m\n\u001b[0;32m      1\u001b[0m \u001b[1;32mimport\u001b[0m \u001b[0mnumpy\u001b[0m \u001b[1;32mas\u001b[0m \u001b[0mnp\u001b[0m\u001b[1;33m\u001b[0m\u001b[1;33m\u001b[0m\u001b[0m\n\u001b[0;32m      2\u001b[0m \u001b[0mr\u001b[0m\u001b[1;33m=\u001b[0m\u001b[0mnp\u001b[0m\u001b[1;33m.\u001b[0m\u001b[0mones_like\u001b[0m\u001b[1;33m(\u001b[0m\u001b[0mrmsd\u001b[0m\u001b[1;33m,\u001b[0m\u001b[0mnp\u001b[0m\u001b[1;33m.\u001b[0m\u001b[0mfloat64\u001b[0m\u001b[1;33m)\u001b[0m\u001b[1;33m/\u001b[0m\u001b[1;36m2\u001b[0m\u001b[1;33m\u001b[0m\u001b[1;33m\u001b[0m\u001b[0m\n\u001b[1;32m----> 3\u001b[1;33m \u001b[0mqp\u001b[0m\u001b[1;33m=\u001b[0m\u001b[0mr\u001b[0m\u001b[1;33m.\u001b[0m\u001b[0mnumpy\u001b[0m\u001b[1;33m(\u001b[0m\u001b[1;33m)\u001b[0m\u001b[1;33m\u001b[0m\u001b[1;33m\u001b[0m\u001b[0m\n\u001b[0m\u001b[0;32m      4\u001b[0m \u001b[0mar1\u001b[0m\u001b[1;33m=\u001b[0m\u001b[0mnp\u001b[0m\u001b[1;33m.\u001b[0m\u001b[0masarray\u001b[0m\u001b[1;33m(\u001b[0m\u001b[0mlr1\u001b[0m\u001b[1;33m)\u001b[0m\u001b[1;33m\u001b[0m\u001b[1;33m\u001b[0m\u001b[0m\n\u001b[0;32m      5\u001b[0m \u001b[0mar2\u001b[0m\u001b[1;33m=\u001b[0m\u001b[0mnp\u001b[0m\u001b[1;33m.\u001b[0m\u001b[0masarray\u001b[0m\u001b[1;33m(\u001b[0m\u001b[0mlr2\u001b[0m\u001b[1;33m)\u001b[0m\u001b[1;33m\u001b[0m\u001b[1;33m\u001b[0m\u001b[0m\n",
      "\u001b[1;31mAttributeError\u001b[0m: 'numpy.ndarray' object has no attribute 'numpy'"
     ]
    }
   ],
   "source": [
    "import numpy as np\n",
    "r=np.ones_like(rmsd,np.float64)/2\n",
    "qp=r.numpy()\n",
    "ar1=np.asarray(lr1)\n",
    "ar2=np.asarray(lr2)\n",
    "\n",
    "%matplotlib inline\n",
    "import matplotlib.pyplot as plt\n",
    "\n",
    "plt.rc('font', size=10)          # controls default text sizes\n",
    "plt.rc('axes', titlesize=14)     # fontsize of the axes title\n",
    "plt.rc('axes', labelsize=14)    # fontsize of the x and y labels\n",
    "plt.rc('xtick', labelsize=12)    # fontsize of the tick labels\n",
    "plt.rc('ytick', labelsize=12)    # fontsize of the tick labels\n",
    "plt.rc('legend', fontsize=10)    # legend fontsize\n",
    "plt.rc('figure', titlesize=14)  # fontsize of the figure title\n",
    "\n",
    "fig,(ax1,ax2,ax3)=plt.subplots(3,1,figsize=(6,10))\n",
    "        \n",
    "ax1b=ax1.twinx()\n",
    "ax1b.plot(ar1[1:,0],ar1[1:,1],'b')\n",
    "ax1b.set(ylabel='$||r-r_{-1000}||$')\n",
    "\n",
    "from matplotlib.ticker import FormatStrFormatter\n",
    "ax1b.set(yscale='log',ylim=(1,10))\n",
    "ax1b.yaxis.set_major_formatter(FormatStrFormatter('%g'))\n",
    "ax1b.yaxis.set_minor_formatter(FormatStrFormatter('%g'))\n",
    "ax1b.yaxis.set_ticks([1,2,4,10],minor=True)\n",
    "ax1.set(xlabel='iteration',ylabel='$\\Delta r^2/2$')\n",
    "ax1.plot(ar2[:,0],ar2[:,1],'k')\n",
    "_=ax1.set(ylim=(100,400))\n",
    "\n",
    "\n",
    "import npnelib as ne \n",
    "from math import log\n",
    "\n",
    "dx=0.002\n",
    "lx,lzh=ne.comp_Zh(qp,dx=dx)\n",
    "lf=[-log(z) for z in lzh if z>0]\n",
    "\n",
    "lx2,lzh2=ne.comp_Zca(qp,a=-1,dx=dx,eq=True)\n",
    "lf2=[-log(z*2) for z in lzh2 if z>0]\n",
    "\n",
    "ax2.plot(lx,lf,'k-',label='$F_H$')\n",
    "ax2.set(xlabel='q',ylabel='$F$')\n",
    "\n",
    "dx=0.0001\n",
    "ldt=[2**i for i in range(16)]\n",
    "for dt in ldt:\n",
    "    ekn=ne.comp_ekn_tp(qp,x0=0,x1=1,dx=dx,dt=dt)\n",
    "    lx,lzc1=ne.comp_Zca_ekn(ekn,a=1)\n",
    "    ax3.plot(lx,lzc1)\n",
    "\n",
    "ax3.set(xlabel='q',ylabel='$Z_q$')\n",
    "ax1.text(-.15,1,'a',fontsize=24,transform=ax1.transAxes)\n",
    "ax2.text(-.15,1,'b',fontsize=24,transform=ax2.transAxes)\n",
    "ax2.text(-.15,1,'c',fontsize=24,transform=ax3.transAxes)\n",
    "\n",
    "plt.tight_layout()\n",
    "_=plt.savefig('fig5.pdf',dpi=600)"
   ]
  },
  {
   "cell_type": "markdown",
   "metadata": {},
   "source": [
    "I need to find out what .numpy() does. It isn't a numpy Ive seen before"
   ]
  },
  {
   "cell_type": "code",
   "execution_count": null,
   "metadata": {},
   "outputs": [],
   "source": []
  }
 ],
 "metadata": {
  "kernelspec": {
   "display_name": "Python 3",
   "language": "python",
   "name": "python3"
  },
  "language_info": {
   "codemirror_mode": {
    "name": "ipython",
    "version": 3
   },
   "file_extension": ".py",
   "mimetype": "text/x-python",
   "name": "python",
   "nbconvert_exporter": "python",
   "pygments_lexer": "ipython3",
   "version": "3.8.3"
  }
 },
 "nbformat": 4,
 "nbformat_minor": 4
}
