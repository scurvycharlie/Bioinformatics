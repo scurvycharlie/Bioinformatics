{
 "cells": [
  {
   "cell_type": "markdown",
   "metadata": {},
   "source": [
    "Importing tensorflow and other modules"
   ]
  },
  {
   "cell_type": "code",
   "execution_count": 12,
   "metadata": {},
   "outputs": [],
   "source": [
    "import tensorflow as tf\n",
    "import npnelib as ne\n",
    "import numpy as np\n",
    "import scipy"
   ]
  },
  {
   "cell_type": "markdown",
   "metadata": {},
   "source": [
    "Defining dcd coordinate reading function, tf (for finding the time series between two atoms) and find maximum Zc,1 derivation function."
   ]
  },
  {
   "cell_type": "code",
   "execution_count": 13,
   "metadata": {},
   "outputs": [],
   "source": [
    "def read_dcd(name,verb=False,natom=0,nsets=0):\n",
    "    import numpy as np\n",
    "    from scipy.io import FortranFile\n",
    "    f=FortranFile(name,'r')\n",
    "    hdr=f.read_record(np.dtype('i4'))\n",
    "    if verb:print (hdr)\n",
    "    nsetsdcd=hdr[1]\n",
    "    if nsets==0:nsets=nsetsdcd\n",
    "    extrablock=hdr[11]>0\n",
    "    if verb:print (nsets,extrablock)\n",
    "    ntitle=f.read_record(np.dtype('i4'))\n",
    "    if verb:print (ntitle)\n",
    "    natomdcd=f.read_record(np.dtype('i4'))[0]\n",
    "    if natom==0:natom=natomdcd\n",
    "    mask=np.full(natomdcd,True)\n",
    "    if natomdcd!=natom: # reading a (random) subset of atoms\n",
    "        mask=np.full(natomdcd,False)\n",
    "        mask[:natom]=True\n",
    "        np.random.shuffle(mask)\n",
    "    if verb:print (natom)\n",
    "    xyz=np.zeros((natom,3,nsets),dtype=np.float16)\n",
    "    for iset in range(nsets):\n",
    "        if iset % max(1,int(nsets/10))==0:print (iset)\n",
    "        if extrablock: cell=f.read_record(np.dtype('f4'))\n",
    "        xyz[:,0,iset]=f.read_record(np.dtype('f4'))[mask]\n",
    "        xyz[:,1,iset]=f.read_record(np.dtype('f4'))[mask]\n",
    "        xyz[:,2,iset]=f.read_record(np.dtype('f4'))[mask]\n",
    "    f.close()\n",
    "    return natom,nsets,xyz\n",
    "\n",
    "@tf.function\n",
    "def rij(r1,r2):\n",
    "    dr=r1-r2\n",
    "    dr2=tf.math.reduce_sum(dr*dr,axis=0)\n",
    "    dr=tf.math.sqrt(dr2)\n",
    "    return dr/tf.math.reduce_max(dr)\n",
    "\n",
    "def find_maxzc1(r):\n",
    "    lx,lzc1=ne.comp_Zca(r,1,dx=0.01,dt=1)\n",
    "    mzc1=sum(lzc1)/len(lzc1)\n",
    "    return max([((zc1/mzc1-1),x) for x,zc1 in zip(lx,lzc1)])"
   ]
  },
  {
   "cell_type": "markdown",
   "metadata": {},
   "source": [
    "Opening the rmsd file to define boundry states and opening dcd to give coordinates. "
   ]
  },
  {
   "cell_type": "code",
   "execution_count": 14,
   "metadata": {},
   "outputs": [
    {
     "name": "stdout",
     "output_type": "stream",
     "text": [
      "0\n",
      "125917\n",
      "251834\n",
      "377751\n",
      "503668\n",
      "629585\n",
      "755502\n",
      "881419\n",
      "1007336\n",
      "1133253\n",
      "1259170\n",
      "(627, 3, 1259172)\n"
     ]
    }
   ],
   "source": [
    "f=open('redtraj-3-0.rmsd')\n",
    "lrmsd=[]\n",
    "for l in f:\n",
    "    l=l.split()\n",
    "    lrmsd.append(float(l[1]))\n",
    "f.close()\n",
    "rmsd=np.asarray(lrmsd)\n",
    "\n",
    "natom,nsets,xyz=read_dcd('redcomb.dcd')\n",
    "xyz = tf.convert_to_tensor(xyz, np.float16)\n",
    "\n",
    "print (xyz.shape)"
   ]
  },
  {
   "cell_type": "markdown",
   "metadata": {},
   "source": [
    "xyz reads the 3D coordinates and defines the order perameters."
   ]
  },
  {
   "cell_type": "markdown",
   "metadata": {},
   "source": [
    "We define the boundry states of the RC where r(A)=0 and r(B)=1. It(t) is the indicator function: it equals 1 when \n",
    "itraj(t)=itraj(t+dt). Ib is the boundry indicator function, it is 1 when X(t) is on a boundry and 0 not on a boundry. \n",
    "It is fixed during optimisation, and is zero otherwise. \n",
    "We Define 4 and 11 to be the boundry states as determined from the FEP as a function of rmsd plot of redtraj-5-0. "
   ]
  },
  {
   "cell_type": "code",
   "execution_count": 15,
   "metadata": {},
   "outputs": [],
   "source": [
    "r=np.ones_like(rmsd,np.float64)/2\n",
    "r[rmsd<4.0]=0\n",
    "r[rmsd>11.0]=1\n",
    "\n",
    "Ib=np.zeros_like(rmsd,np.float64)\n",
    "Ib[rmsd<4.0]=1 \n",
    "Ib[rmsd>11.0]=1 \n",
    "\n",
    "It=np.ones_like(rmsd,np.float64)"
   ]
  },
  {
   "cell_type": "markdown",
   "metadata": {},
   "source": [
    "every 1000 iterations, print:\n",
    "iteration number, ||r-r_{-1000}||, dr**2/2, max dZ{C,1}, r0 \n",
    "\n",
    "40000 iterations will be produced. "
   ]
  },
  {
   "cell_type": "code",
   "execution_count": 16,
   "metadata": {},
   "outputs": [
    {
     "name": "stdout",
     "output_type": "stream",
     "text": [
      "0 370.30121171152393 12.993837498494639 0 0\n",
      "1000 13.565123888580844 1.0034076118937365 0 0\n",
      "2000 5.380555219049591 0.9999999999937232 0 0\n",
      "3000 1.6414119072135143e-07 0.9999999999877824 0 0\n",
      "4000 1.245437476261097e-07 0.9999999999625432 0 0\n",
      "5000 1.136047613263078e-07 0.9999999999878406 0 0\n",
      "6000 1.1663633608305191e-07 0.999999999981419 0 0\n",
      "7000 1.0470876042581233e-07 0.999999999991811 0 0\n",
      "8000 8.445350134813846e-08 0.9999999999955295 0 0\n",
      "9000 8.455619920882165e-08 1.0000000000004197 0 0\n",
      "10000 7.419542162427149e-08 0.9999999999983615 0 0\n"
     ]
    }
   ],
   "source": [
    "ro=r\n",
    "df=0\n",
    "r0=0\n",
    "lr1=[]\n",
    "lr2=[]\n",
    "k=0\n",
    "np.random.seed(100)\n",
    "while k<1000000:\n",
    "    i,j=np.random.choice(range(natom),2,replace=False)\n",
    "    y=rij(xyz[i,:,:],xyz[j,:,:])\n",
    "    y=tf.cast(y,tf.float64)\n",
    "    \n",
    "    r=ne.NPNEq(r,ne.basis_poly_ry(r,y,4),Ib,It)\n",
    "  \n",
    "    if k%1000==0:\n",
    "        dr=r-ro\n",
    "        dr2=tf.tensordot(dr,dr,1).numpy()\n",
    "        dr2=dr2**0.5\n",
    "        lr1.append((k,dr2))\n",
    "        dr=r-tf.roll(r,-1,0)\n",
    "        dr2=tf.tensordot(dr*It,dr,1).numpy()/2\n",
    "        lr2.append((k,dr2))\n",
    "        print (k,lr1[-1][1],lr2[-1][1],df,r0)\n",
    "        if k>=10000:break\n",
    "        ro=r\n",
    "    k+=1"
   ]
  },
  {
   "cell_type": "markdown",
   "metadata": {},
   "source": [
    "Shift in ||r-r-n|| is tiny at 10000 iterations. r0 ramians constant at 1, dr**2/2 is constant at 11, max dZ{C,1} stays at 0 meaning it remains constant past 10000 iterations as well. "
   ]
  },
  {
   "cell_type": "code",
   "execution_count": 21,
   "metadata": {},
   "outputs": [
    {
     "data": {
      "image/png": "[encoded data removed]",
      "text/plain": [
       "<Figure size 432x720 with 4 Axes>"
      ]
     },
     "metadata": {
      "needs_background": "light"
     },
     "output_type": "display_data"
    }
   ],
   "source": [
    "qp=r.numpy()\n",
    "ar1=np.asarray(lr1)\n",
    "ar2=np.asarray(lr2)\n",
    "\n",
    "\n",
    "%matplotlib inline\n",
    "import matplotlib.pyplot as plt\n",
    "\n",
    "plt.rc('font', size=10)          # controls default text sizes\n",
    "plt.rc('axes', titlesize=14)     # fontsize of the axes title\n",
    "plt.rc('axes', labelsize=14)    # fontsize of the x and y labels\n",
    "plt.rc('xtick', labelsize=12)    # fontsize of the tick labels\n",
    "plt.rc('ytick', labelsize=12)    # fontsize of the tick labels\n",
    "plt.rc('legend', fontsize=10)    # legend fontsize\n",
    "plt.rc('figure', titlesize=14)  # fontsize of the figure title\n",
    "\n",
    "fig,(ax1,ax2,ax3)=plt.subplots(3,1,figsize=(6,10))\n",
    "        \n",
    "ax1b=ax1.twinx()\n",
    "ax1b.plot(ar1[1:,0],ar1[1:,1],'b')\n",
    "ax1b.set(ylabel='$||r-r_{-1000}||$')\n",
    "\n",
    "from matplotlib.ticker import FormatStrFormatter\n",
    "ax1b.set(yscale='log',ylim=(1,10))\n",
    "ax1b.yaxis.set_major_formatter(FormatStrFormatter('%g'))\n",
    "ax1b.yaxis.set_minor_formatter(FormatStrFormatter('%g'))\n",
    "ax1b.yaxis.set_ticks([1,2,4,10],minor=True)\n",
    "ax1.set(xlabel='iteration',ylabel='$\\Delta r^2/2$')\n",
    "ax1.plot(ar2[:,0],ar2[:,1],'k')\n",
    "_=ax1.set(ylim=(0,100))\n",
    "\n",
    "\n",
    "import npnelib as ne \n",
    "from math import log\n",
    "\n",
    "dx=0.002\n",
    "lx,lzh=ne.comp_Zh(qp,dx=dx)\n",
    "lf=[-log(z) for z in lzh if z>0]\n",
    "\n",
    "lx2,lzh2=ne.comp_Zca(qp,a=-1,dx=dx,eq=True)\n",
    "lf2=[-log(z*2) for z in lzh2 if z>0]\n",
    "\n",
    "ax2.plot(lx,lf,'k-',label='$F_H$')\n",
    "ax2.set(xlabel='q',ylabel='$F$')\n",
    "\n",
    "dx=0.0005\n",
    "ldt=[2**i for i in range(16)]\n",
    "for dt in ldt:\n",
    "    ekn=ne.comp_ekn_tp(qp,x0=0,x1=1,dx=dx,dt=dt)\n",
    "    lx,lzc1=ne.comp_Zca_ekn(ekn,a=1)\n",
    "    ax3.plot(lx,lzc1)\n",
    "\n",
    "ax3.set(xlabel='q',ylabel='$Z_q$')\n",
    "ax1.text(-.15,1,'a',fontsize=24,transform=ax1.transAxes)\n",
    "ax2.text(-.15,1,'b',fontsize=24,transform=ax2.transAxes)\n",
    "ax2.text(-.15,1,'c',fontsize=24,transform=ax3.transAxes)\n",
    "\n",
    "plt.tight_layout()\n",
    "_=plt.savefig('fig11.pdf',dpi=600)"
   ]
  },
  {
   "cell_type": "markdown",
   "metadata": {},
   "source": [
    "Fq and Zqq plots indicate a poor model fit - this rmsd is a poor representitive RC"
   ]
  },
  {
   "cell_type": "code",
   "execution_count": null,
   "metadata": {},
   "outputs": [],
   "source": []
  },
  {
   "cell_type": "markdown",
   "metadata": {},
   "source": []
  }
 ],
 "metadata": {
  "kernelspec": {
   "display_name": "Python 3",
   "language": "python",
   "name": "python3"
  },
  "language_info": {
   "codemirror_mode": {
    "name": "ipython",
    "version": 3
   },
   "file_extension": ".py",
   "mimetype": "text/x-python",
   "name": "python",
   "nbconvert_exporter": "python",
   "pygments_lexer": "ipython3",
   "version": "3.8.3"
  }
 },
 "nbformat": 4,
 "nbformat_minor": 4
}
